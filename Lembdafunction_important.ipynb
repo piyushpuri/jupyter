{
 "cells": [
  {
   "cell_type": "code",
   "execution_count": 1,
   "id": "08ce844d",
   "metadata": {},
   "outputs": [
    {
     "name": "stdout",
     "output_type": "stream",
     "text": [
      "7\n"
     ]
    }
   ],
   "source": [
    "add = lambda num:num+4\n",
    "print(add(3))"
   ]
  },
  {
   "cell_type": "code",
   "execution_count": 2,
   "id": "f1632d7d",
   "metadata": {},
   "outputs": [
    {
     "data": {
      "text/plain": [
       "[21, 87, 25]"
      ]
     },
     "execution_count": 2,
     "metadata": {},
     "output_type": "execute_result"
    }
   ],
   "source": [
    "list1=[21,16,24,87,25]\n",
    "odd_list=list(filter(lambda num:num%2 !=0,list1))\n",
    "odd_list"
   ]
  },
  {
   "cell_type": "code",
   "execution_count": 3,
   "id": "b40d5542",
   "metadata": {},
   "outputs": [
    {
     "data": {
      "text/plain": [
       "[441, 256, 576, 7569, 625]"
      ]
     },
     "execution_count": 3,
     "metadata": {},
     "output_type": "execute_result"
    }
   ],
   "source": [
    "list2=[21,16,24,87,25]\n",
    "squared_list=list(map(lambda num:num**2,list2))\n",
    "squared_list"
   ]
  },
  {
   "cell_type": "code",
   "execution_count": null,
   "id": "ac784d7c",
   "metadata": {},
   "outputs": [],
   "source": [
    "num1=int(input(\"Enter a number: \"))\n",
    "num2=int(input(\"Enter a number: \"))\n",
    "\n",
    "  if num2>input\n",
    "    print(number is greater than num1)\n",
    "else:\n",
    "    print(number is smaller than num2)"
   ]
  },
  {
   "cell_type": "code",
   "execution_count": null,
   "id": "ce708f1d",
   "metadata": {},
   "outputs": [],
   "source": [
    "min=lambda x,y: x if (x<y) else y\n",
    "min(2,3)"
   ]
  },
  {
   "cell_type": "code",
   "execution_count": null,
   "id": "8b4c5f2f",
   "metadata": {},
   "outputs": [],
   "source": []
  }
 ],
 "metadata": {
  "kernelspec": {
   "display_name": "Python 3 (ipykernel)",
   "language": "python",
   "name": "python3"
  },
  "language_info": {
   "codemirror_mode": {
    "name": "ipython",
    "version": 3
   },
   "file_extension": ".py",
   "mimetype": "text/x-python",
   "name": "python",
   "nbconvert_exporter": "python",
   "pygments_lexer": "ipython3",
   "version": "3.11.5"
  }
 },
 "nbformat": 4,
 "nbformat_minor": 5
}
