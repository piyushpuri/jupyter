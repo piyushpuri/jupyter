{
 "cells": [
  {
   "cell_type": "markdown",
   "id": "ddba8ded",
   "metadata": {},
   "source": [
    "#### For Loop"
   ]
  },
  {
   "cell_type": "code",
   "execution_count": 3,
   "id": "3978b245",
   "metadata": {},
   "outputs": [
    {
     "data": {
      "text/plain": [
       "40"
      ]
     },
     "execution_count": 3,
     "metadata": {},
     "output_type": "execute_result"
    }
   ],
   "source": [
    "numbers=[1,2,3,1,5]\n",
    "sum_=0\n",
    "\n",
    "for num in numbers:\n",
    "    sum_=sum_+num**2\n",
    "    \n",
    "sum_"
   ]
  },
  {
   "cell_type": "code",
   "execution_count": 11,
   "id": "9a926e2a",
   "metadata": {},
   "outputs": [
    {
     "name": "stdout",
     "output_type": "stream",
     "text": [
      "The cube root of 125 is: 5.0\n"
     ]
    }
   ],
   "source": [
    "numbers=125\n",
    "cube_root= numbers**(1/3)\n",
    "print(f\"The cube root of {numbers} is: {cube_root}\")"
   ]
  },
  {
   "cell_type": "code",
   "execution_count": 9,
   "id": "4e5d33be",
   "metadata": {},
   "outputs": [
    {
     "name": "stdout",
     "output_type": "stream",
     "text": [
      "1\n",
      "3\n",
      "15\n",
      "120\n",
      "1080\n"
     ]
    }
   ],
   "source": [
    "x=[1,3,5,8,9]\n",
    "product = 1\n",
    "for i in x:\n",
    "    product = product * i\n",
    "    print(product)"
   ]
  },
  {
   "cell_type": "code",
   "execution_count": 10,
   "id": "dd0273c0",
   "metadata": {},
   "outputs": [
    {
     "name": "stdout",
     "output_type": "stream",
     "text": [
      "4\n",
      "3\n",
      "2\n",
      "1\n",
      "0\n"
     ]
    }
   ],
   "source": [
    "for i in reversed(range(5)):\n",
    "    print(i)"
   ]
  },
  {
   "cell_type": "code",
   "execution_count": 12,
   "id": "40f4dfa0",
   "metadata": {},
   "outputs": [
    {
     "name": "stdout",
     "output_type": "stream",
     "text": [
      "[3, 5, 6, 8, 4, 5, 7, 8, 10, 6]\n"
     ]
    }
   ],
   "source": [
    "my_list=[3,5,6,8,4]\n",
    "\n",
    "for num in range(len(my_list)):\n",
    "    my_list.append(my_list[num]+2)\n",
    "print(my_list)"
   ]
  },
  {
   "cell_type": "markdown",
   "id": "488379f3",
   "metadata": {},
   "source": [
    "### it will add the number after 3+2, 5+2, 6+2 and so on"
   ]
  },
  {
   "cell_type": "code",
   "execution_count": 14,
   "id": "d4f1455d",
   "metadata": {},
   "outputs": [
    {
     "name": "stdout",
     "output_type": "stream",
     "text": [
      "55\n"
     ]
    }
   ],
   "source": [
    "num=5\n",
    "\n",
    "summation=0\n",
    "\n",
    "c=1\n",
    "\n",
    "while c<=num:\n",
    "    summation=c**2 + summation\n",
    "    c=c+1\n",
    "    \n",
    "print(summation)"
   ]
  },
  {
   "cell_type": "code",
   "execution_count": 17,
   "id": "c9ce6bf8",
   "metadata": {},
   "outputs": [
    {
     "name": "stdout",
     "output_type": "stream",
     "text": [
      "12 is not a PRIME number\n",
      "12 is not a PRIME number\n",
      "14 is not a PRIME number\n",
      "14 is not a PRIME number\n",
      "6 is not a PRIME number\n",
      "6 is not a PRIME number\n",
      "7 is a PRIME number\n",
      "7 is a PRIME number\n",
      "9 is not a PRIME number\n",
      "9 is not a PRIME number\n",
      "19 is a PRIME number\n",
      "19 is a PRIME number\n",
      "25 is not a PRIME number\n",
      "25 is not a PRIME number\n",
      "36 is not a PRIME number\n",
      "36 is not a PRIME number\n"
     ]
    }
   ],
   "source": [
    "num=[12,14,6,7,9,19,25,36]\n",
    "\n",
    "def prime_number(number):\n",
    "    condition = 0\n",
    "    iteration = 2\n",
    "    while iteration <= number / 2:\n",
    "        if number % iteration == 0:  # Corrected this line (removed extra 0)\n",
    "            condition = 1\n",
    "            break\n",
    "        iteration = iteration + 1\n",
    "\n",
    "    if condition == 0:\n",
    "        print(f\"{number} is a PRIME number\")\n",
    "    else:\n",
    "        print(f\"{number} is not a PRIME number\")\n",
    "\n",
    "for i in num:\n",
    "    prime_number(i)\n",
    "\n",
    "    prime_number(i)"
   ]
  },
  {
   "cell_type": "code",
   "execution_count": null,
   "id": "19a5b619",
   "metadata": {},
   "outputs": [],
   "source": []
  }
 ],
 "metadata": {
  "kernelspec": {
   "display_name": "Python 3 (ipykernel)",
   "language": "python",
   "name": "python3"
  },
  "language_info": {
   "codemirror_mode": {
    "name": "ipython",
    "version": 3
   },
   "file_extension": ".py",
   "mimetype": "text/x-python",
   "name": "python",
   "nbconvert_exporter": "python",
   "pygments_lexer": "ipython3",
   "version": "3.11.5"
  }
 },
 "nbformat": 4,
 "nbformat_minor": 5
}
