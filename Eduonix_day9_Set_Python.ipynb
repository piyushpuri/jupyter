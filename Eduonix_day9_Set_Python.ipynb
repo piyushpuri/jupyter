{
 "cells": [
  {
   "cell_type": "markdown",
   "id": "038b2a0d",
   "metadata": {},
   "source": [
    "### Set"
   ]
  },
  {
   "cell_type": "code",
   "execution_count": 4,
   "id": "e67579b2",
   "metadata": {},
   "outputs": [
    {
     "data": {
      "text/plain": [
       "{1.5, 2, 200, 21, 3, 'Any', 'Hello1', 'Sample', 'any', 'hello', 'hi'}"
      ]
     },
     "execution_count": 4,
     "metadata": {},
     "output_type": "execute_result"
    }
   ],
   "source": [
    "sample={\"Sample\",\"hi\",\"hello\",\"any\",2,200,1.5,3,21,\"Hello1\",\"Any\",2,200}\n",
    "sample"
   ]
  },
  {
   "cell_type": "markdown",
   "id": "db5bb4c9",
   "metadata": {},
   "source": [
    "#### Set doesn't allow duplicates\n",
    "#### It gets arranged according to first number\n",
    "#### we cannot retrieve element with index\n",
    "#### Set is mutable but not with index"
   ]
  },
  {
   "cell_type": "code",
   "execution_count": 6,
   "id": "2c0c7aab",
   "metadata": {},
   "outputs": [
    {
     "data": {
      "text/plain": [
       "frozenset({100, 21, 'A', 'c'})"
      ]
     },
     "execution_count": 6,
     "metadata": {},
     "output_type": "execute_result"
    }
   ],
   "source": [
    "set_1=frozenset([\"A\",\"c\",100,21])\n",
    "set_1"
   ]
  },
  {
   "cell_type": "code",
   "execution_count": 7,
   "id": "bae6a9d5",
   "metadata": {},
   "outputs": [
    {
     "ename": "AttributeError",
     "evalue": "'frozenset' object has no attribute 'add'",
     "output_type": "error",
     "traceback": [
      "\u001b[1;31m---------------------------------------------------------------------------\u001b[0m",
      "\u001b[1;31mAttributeError\u001b[0m                            Traceback (most recent call last)",
      "Cell \u001b[1;32mIn[7], line 1\u001b[0m\n\u001b[1;32m----> 1\u001b[0m set_1\u001b[38;5;241m.\u001b[39madd(\u001b[38;5;241m26\u001b[39m)\n",
      "\u001b[1;31mAttributeError\u001b[0m: 'frozenset' object has no attribute 'add'"
     ]
    }
   ],
   "source": [
    "set_1.add(26)"
   ]
  },
  {
   "cell_type": "markdown",
   "id": "b29a495a",
   "metadata": {},
   "source": [
    "### frozen set is used for security purpose you can add or modify the elements"
   ]
  },
  {
   "cell_type": "code",
   "execution_count": null,
   "id": "faec05af",
   "metadata": {},
   "outputs": [],
   "source": []
  }
 ],
 "metadata": {
  "kernelspec": {
   "display_name": "Python 3 (ipykernel)",
   "language": "python",
   "name": "python3"
  },
  "language_info": {
   "codemirror_mode": {
    "name": "ipython",
    "version": 3
   },
   "file_extension": ".py",
   "mimetype": "text/x-python",
   "name": "python",
   "nbconvert_exporter": "python",
   "pygments_lexer": "ipython3",
   "version": "3.11.5"
  }
 },
 "nbformat": 4,
 "nbformat_minor": 5
}
